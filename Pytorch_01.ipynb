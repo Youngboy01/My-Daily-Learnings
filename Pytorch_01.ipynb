{
  "nbformat": 4,
  "nbformat_minor": 0,
  "metadata": {
    "colab": {
      "provenance": []
    },
    "kernelspec": {
      "name": "python3",
      "display_name": "Python 3"
    },
    "language_info": {
      "name": "python"
    }
  },
  "cells": [
    {
      "cell_type": "code",
      "execution_count": null,
      "metadata": {
        "colab": {
          "base_uri": "https://localhost:8080/",
          "height": 35
        },
        "id": "NuAy74sEbpM2",
        "outputId": "b827c3f8-ebf8-4cd6-bcb6-2a8593186359"
      },
      "outputs": [
        {
          "output_type": "execute_result",
          "data": {
            "text/plain": [
              "'2.5.1+cu124'"
            ],
            "application/vnd.google.colaboratory.intrinsic+json": {
              "type": "string"
            }
          },
          "metadata": {},
          "execution_count": 39
        }
      ],
      "source": [
        "import torch\n",
        "from torch import nn\n",
        "import matplotlib.pyplot as plt\n",
        "#torch version\n",
        "torch.__version__"
      ]
    },
    {
      "cell_type": "markdown",
      "source": [
        "###linear Regression\n"
      ],
      "metadata": {
        "id": "c6AneBFWe0zZ"
      }
    },
    {
      "cell_type": "code",
      "source": [
        "#create *known* parameters\n",
        "weight = 0.7\n",
        "bias=0.4\n",
        "#create\n",
        "start=0\n",
        "end=1\n",
        "step=.02\n",
        "X= torch.arange(start,end,step).unsqueeze(dim=-1)\n",
        "y= weight*X + bias\n",
        "X[:10] , y[:10]"
      ],
      "metadata": {
        "colab": {
          "base_uri": "https://localhost:8080/"
        },
        "id": "YoFeKYooghc1",
        "outputId": "78f160d6-f9ff-48fd-a781-6416d6d01eb4"
      },
      "execution_count": null,
      "outputs": [
        {
          "output_type": "execute_result",
          "data": {
            "text/plain": [
              "(tensor([[0.0000],\n",
              "         [0.0200],\n",
              "         [0.0400],\n",
              "         [0.0600],\n",
              "         [0.0800],\n",
              "         [0.1000],\n",
              "         [0.1200],\n",
              "         [0.1400],\n",
              "         [0.1600],\n",
              "         [0.1800]]),\n",
              " tensor([[0.4000],\n",
              "         [0.4140],\n",
              "         [0.4280],\n",
              "         [0.4420],\n",
              "         [0.4560],\n",
              "         [0.4700],\n",
              "         [0.4840],\n",
              "         [0.4980],\n",
              "         [0.5120],\n",
              "         [0.5260]]))"
            ]
          },
          "metadata": {},
          "execution_count": 40
        }
      ]
    },
    {
      "cell_type": "code",
      "source": [
        "len(X),len(y)"
      ],
      "metadata": {
        "colab": {
          "base_uri": "https://localhost:8080/"
        },
        "id": "hoZ75dH6h1XT",
        "outputId": "708c2240-fe89-4bf2-b26c-78d0bb5cde96"
      },
      "execution_count": null,
      "outputs": [
        {
          "output_type": "execute_result",
          "data": {
            "text/plain": [
              "(50, 50)"
            ]
          },
          "metadata": {},
          "execution_count": 41
        }
      ]
    },
    {
      "cell_type": "markdown",
      "source": [
        "###splitting data in test and train set\n"
      ],
      "metadata": {
        "id": "KJ9dmciOiIYF"
      }
    },
    {
      "cell_type": "code",
      "source": [
        "#create a test train split\n",
        "train_split = int(0.8*len(X))\n",
        "train_split"
      ],
      "metadata": {
        "colab": {
          "base_uri": "https://localhost:8080/"
        },
        "id": "SVmY-wdJjB-a",
        "outputId": "6cd6b4ba-fd5e-47f8-d868-b2de62d09996"
      },
      "execution_count": null,
      "outputs": [
        {
          "output_type": "execute_result",
          "data": {
            "text/plain": [
              "40"
            ]
          },
          "metadata": {},
          "execution_count": 42
        }
      ]
    },
    {
      "cell_type": "code",
      "source": [
        "X_train,y_train = X[:train_split], y[:train_split]\n",
        "X_test,y_test = X[train_split:],y[train_split:]\n",
        "len(X_train),len(y_train),len(X_test),len(y_test)"
      ],
      "metadata": {
        "colab": {
          "base_uri": "https://localhost:8080/"
        },
        "id": "0cHYGNDNkSlE",
        "outputId": "ea0db658-4dcb-4b38-ea31-1aee8c20326f"
      },
      "execution_count": null,
      "outputs": [
        {
          "output_type": "execute_result",
          "data": {
            "text/plain": [
              "(40, 40, 10, 10)"
            ]
          },
          "metadata": {},
          "execution_count": 43
        }
      ]
    },
    {
      "cell_type": "markdown",
      "source": [
        "###Better visualization of data"
      ],
      "metadata": {
        "id": "3QKjb3yrl0go"
      }
    },
    {
      "cell_type": "code",
      "source": [
        "def plot_predictions(train_data=X_train,train_label=y_train,test_data=X_test,test_label=y_test,predictions=None):\n",
        "  '''plots tain and test data and compares predictions'''\n",
        "  plt.figure(figsize=(10,7))\n",
        "  #plot train data\n",
        "  plt.scatter(train_data,train_label,c='b',s=4,label='training data')\n",
        "  #plot test data\n",
        "  plt.scatter(test_data,test_label,c='g',s=4,label='test data')\n",
        "  #are there predictions\n",
        "  if predictions is not None:\n",
        "    #plot predictions if exist\n",
        "    plt.scatter(test_data,predictions,c='r',s=4,label='predictions')\n",
        "  #legends\n",
        "  plt.legend(prop={'size':14})"
      ],
      "metadata": {
        "id": "e9aU_lHmmcjI"
      },
      "execution_count": null,
      "outputs": []
    },
    {
      "cell_type": "code",
      "source": [
        "\n",
        "plot_predictions()"
      ],
      "metadata": {
        "colab": {
          "base_uri": "https://localhost:8080/",
          "height": 460
        },
        "id": "ecJkUHcCoMd5",
        "outputId": "609a8402-cbab-491d-f88b-05b7aaf0feb2"
      },
      "execution_count": null,
      "outputs": [
        {
          "output_type": "display_data",
          "data": {
            "text/plain": [
              "<Figure size 1000x700 with 1 Axes>"
            ],
            "image/png": "[encoded data removed]"
          },
          "metadata": {}
        }
      ]
    },
    {
      "cell_type": "markdown",
      "source": [
        "##build model"
      ],
      "metadata": {
        "id": "8ATf2jm1o4hv"
      }
    },
    {
      "cell_type": "code",
      "source": [
        "class LinearRegression(nn.Module):\n",
        "  #almost everything in pytorch inherits from nn.module\n",
        "  def __init__(self):\n",
        "    super().__init__()\n",
        "    #weights\n",
        "    self.weights = nn.Parameter(torch.randn(1#start with a random weight and try to adjust it to ideal weigth\n",
        "                                            ,requires_grad=True#means pytorch will track the grad of this specific parameter for use with torch.autograd and grad descent\n",
        "                                            ,dtype=torch.float))\n",
        "    #bias\n",
        "    self.bias = nn.Parameter(torch.randn(1,requires_grad=True,dtype=torch.float))\n",
        "    #create a forward pass\n",
        "  def forward(self, x:torch.Tensor) -> torch.Tensor:#x is the input data\n",
        "    return self.weights * x + self.bias"
      ],
      "metadata": {
        "id": "Ctsai1bRpFmr"
      },
      "execution_count": null,
      "outputs": []
    },
    {
      "cell_type": "markdown",
      "source": [
        "###pytorch model building essentials\n",
        "torch.nn.Parameter -> Parameters are Tensor subclasses, that have a very special property when used with Module s - when they’re assigned as Module attributes they are automatically added to the list of its parameters, and will appear e.g. in parameters() iterator\n",
        "                      what params should our model try and learn, often a layer from torch.nn will set these for us.\n",
        "torch.nn.Module->The base class for all neural network modules, if you subclass it yo should overwrite forward().\n",
        "torch.optim -> this where the optimizers in pytorch live, they will help with gradinet descent.     \n",
        "    "
      ],
      "metadata": {
        "id": "v91OgutqrZl9"
      }
    },
    {
      "cell_type": "code",
      "source": [
        "#create a random seed\n",
        "torch.manual_seed(42)\n",
        "#create an instance of model, this is a subclass of module\n",
        "model_0 = LinearRegression()\n",
        "#check the model parameters\n",
        "list(model_0.parameters())"
      ],
      "metadata": {
        "colab": {
          "base_uri": "https://localhost:8080/"
        },
        "id": "7z5nW3-7XpEj",
        "outputId": "72cf13f4-830e-4205-a512-f52fc7abb8e3"
      },
      "execution_count": null,
      "outputs": [
        {
          "output_type": "execute_result",
          "data": {
            "text/plain": [
              "[Parameter containing:\n",
              " tensor([0.3367], requires_grad=True),\n",
              " Parameter containing:\n",
              " tensor([0.1288], requires_grad=True)]"
            ]
          },
          "metadata": {},
          "execution_count": 47
        }
      ]
    },
    {
      "cell_type": "code",
      "source": [
        "#list named params\n",
        "model_0.state_dict()"
      ],
      "metadata": {
        "colab": {
          "base_uri": "https://localhost:8080/"
        },
        "id": "x5zdI1r7Yh1M",
        "outputId": "01d9aa6b-f89c-493c-9957-5641f1b1f872"
      },
      "execution_count": null,
      "outputs": [
        {
          "output_type": "execute_result",
          "data": {
            "text/plain": [
              "OrderedDict([('weights', tensor([0.3367])), ('bias', tensor([0.1288]))])"
            ]
          },
          "metadata": {},
          "execution_count": 48
        }
      ]
    },
    {
      "cell_type": "code",
      "source": [
        "weight,bias"
      ],
      "metadata": {
        "colab": {
          "base_uri": "https://localhost:8080/"
        },
        "id": "E2sy2Nv0ZJ0X",
        "outputId": "857782b4-4eea-442e-9f2c-ac3e02ab0d38"
      },
      "execution_count": null,
      "outputs": [
        {
          "output_type": "execute_result",
          "data": {
            "text/plain": [
              "(0.7, 0.4)"
            ]
          },
          "metadata": {},
          "execution_count": 49
        }
      ]
    },
    {
      "cell_type": "markdown",
      "source": [
        "###making predictions using torch.inference_mode()/\n",
        "to check our model's predictive power, lets see how well it predicts 'y_test' based on 'X_test'.\n",
        "\n",
        "When we pass our data through our model , its going to run it through 'forward()' method."
      ],
      "metadata": {
        "id": "-RiV5W1tZW6D"
      }
    },
    {
      "cell_type": "code",
      "source": [
        "X_test, y_test"
      ],
      "metadata": {
        "colab": {
          "base_uri": "https://localhost:8080/"
        },
        "id": "x0lhdPNWL7H2",
        "outputId": "871cc90d-979e-465e-e168-cbe357bf5624"
      },
      "execution_count": null,
      "outputs": [
        {
          "output_type": "execute_result",
          "data": {
            "text/plain": [
              "(tensor([[0.8000],\n",
              "         [0.8200],\n",
              "         [0.8400],\n",
              "         [0.8600],\n",
              "         [0.8800],\n",
              "         [0.9000],\n",
              "         [0.9200],\n",
              "         [0.9400],\n",
              "         [0.9600],\n",
              "         [0.9800]]),\n",
              " tensor([[0.9600],\n",
              "         [0.9740],\n",
              "         [0.9880],\n",
              "         [1.0020],\n",
              "         [1.0160],\n",
              "         [1.0300],\n",
              "         [1.0440],\n",
              "         [1.0580],\n",
              "         [1.0720],\n",
              "         [1.0860]]))"
            ]
          },
          "metadata": {},
          "execution_count": 50
        }
      ]
    },
    {
      "cell_type": "code",
      "source": [
        "y_preds = model_0(X_test)\n",
        "y_preds\n",
        "#keeps tracks of gradient but while inferencing we are not training so we dont need to keep track so better use inference mode-> faster predictions as no track of grads"
      ],
      "metadata": {
        "colab": {
          "base_uri": "https://localhost:8080/"
        },
        "id": "FnIY97NyNH8Q",
        "outputId": "13611fdd-09e8-4900-fe29-184dc998d26b"
      },
      "execution_count": null,
      "outputs": [
        {
          "output_type": "execute_result",
          "data": {
            "text/plain": [
              "tensor([[0.3982],\n",
              "        [0.4049],\n",
              "        [0.4116],\n",
              "        [0.4184],\n",
              "        [0.4251],\n",
              "        [0.4318],\n",
              "        [0.4386],\n",
              "        [0.4453],\n",
              "        [0.4520],\n",
              "        [0.4588]], grad_fn=<AddBackward0>)"
            ]
          },
          "metadata": {},
          "execution_count": 51
        }
      ]
    },
    {
      "cell_type": "code",
      "source": [
        "#make predictions with model\n",
        "with torch.inference_mode():\n",
        "  y_preds = model_0(X_test)\n",
        "#we can also use with torch.no_grad(): however inference mode is preferred\n",
        "y_preds"
      ],
      "metadata": {
        "colab": {
          "base_uri": "https://localhost:8080/"
        },
        "id": "08xDr3HELorF",
        "outputId": "33a0ef6b-8cd1-4aa8-e474-7f75b3a82dfa"
      },
      "execution_count": null,
      "outputs": [
        {
          "output_type": "execute_result",
          "data": {
            "text/plain": [
              "tensor([[0.3982],\n",
              "        [0.4049],\n",
              "        [0.4116],\n",
              "        [0.4184],\n",
              "        [0.4251],\n",
              "        [0.4318],\n",
              "        [0.4386],\n",
              "        [0.4453],\n",
              "        [0.4520],\n",
              "        [0.4588]])"
            ]
          },
          "metadata": {},
          "execution_count": 52
        }
      ]
    },
    {
      "cell_type": "code",
      "source": [
        "plot_predictions(predictions=y_preds)"
      ],
      "metadata": {
        "colab": {
          "base_uri": "https://localhost:8080/",
          "height": 460
        },
        "id": "ncap9kArK9Qp",
        "outputId": "7388aee0-b71d-4001-b2bd-ba9dd6beaa01"
      },
      "execution_count": null,
      "outputs": [
        {
          "output_type": "display_data",
          "data": {
            "text/plain": [
              "<Figure size 1000x700 with 1 Axes>"
            ],
            "image/png": "[encoded data removed]"
          },
          "metadata": {}
        }
      ]
    },
    {
      "cell_type": "markdown",
      "source": [
        "###Train model\n",
        "the whole idea of training a model is to move from some unknown parameters to some known parameters .\n",
        "Or in other words from a poor representation of data to a better representation of data .\n",
        "We can use a loss fuction to check how poor our model performs.\n",
        "1. **Loss function**: A function to measure how wrong our model's predictions areto ideal output.\n",
        "2. **Optimizer** : Takes into account the loss of a model and adjusts the model's parameters(eg- weight and biases) to improve the loss function.\n",
        "3. SPecifically for pytorch -\n",
        "    a. testing loop\n",
        "    b. training loop\n"
      ],
      "metadata": {
        "id": "Wxlm_XvLPHtt"
      }
    },
    {
      "cell_type": "code",
      "source": [
        "list(model_0.parameters())"
      ],
      "metadata": {
        "id": "4eGRSsCqPmIY",
        "colab": {
          "base_uri": "https://localhost:8080/"
        },
        "outputId": "b23f2efa-b8bf-4660-8359-5b67de266c56"
      },
      "execution_count": null,
      "outputs": [
        {
          "output_type": "execute_result",
          "data": {
            "text/plain": [
              "[Parameter containing:\n",
              " tensor([0.3367], requires_grad=True),\n",
              " Parameter containing:\n",
              " tensor([0.1288], requires_grad=True)]"
            ]
          },
          "metadata": {},
          "execution_count": 54
        }
      ]
    },
    {
      "cell_type": "code",
      "source": [
        "#check out model parameters(a parameter is a value that the model sets itself)\n",
        "model_0.state_dict()"
      ],
      "metadata": {
        "colab": {
          "base_uri": "https://localhost:8080/"
        },
        "id": "pZrMGn7QKRTk",
        "outputId": "560a763c-9403-43a9-f7eb-be54fe403ced"
      },
      "execution_count": null,
      "outputs": [
        {
          "output_type": "execute_result",
          "data": {
            "text/plain": [
              "OrderedDict([('weights', tensor([0.3367])), ('bias', tensor([0.1288]))])"
            ]
          },
          "metadata": {},
          "execution_count": 55
        }
      ]
    },
    {
      "cell_type": "code",
      "source": [
        "#Setup a loss function\n",
        "loss_fn = nn.L1Loss()\n",
        "#setup an optimizer\n",
        "optimizer = torch.optim.SGD(model_0.parameters(), lr = 0.01)#lr = learning rate#hyperparameter - user sets"
      ],
      "metadata": {
        "id": "rJXyt3JYKarc"
      },
      "execution_count": null,
      "outputs": []
    },
    {
      "cell_type": "markdown",
      "source": [
        "###Build trainig and testiing loop in pytorch\n",
        "1. loop through data\n",
        "2. Forward pass(this involves data moving through our model's 'forward()' functons).\n",
        "3. calculate the loss(compare forward pass predictions to ground truth labels)\n",
        "4. optimizer zero grad\n",
        "5. loss backward - moves backwards through the network to calculate the gradients of the parameters of our model wrt loss\n",
        "6. optimizer step - use optimizer to adjust our model's params and try improve the loss."
      ],
      "metadata": {
        "id": "Ysew86KkL_dy"
      }
    },
    {
      "cell_type": "code",
      "source": [
        "torch.manual_seed(42)\n",
        "#an epoch is one loop through the data...(this is a hyperpaaram)\n",
        "epochs = 100\n",
        "#track different values\n",
        "epoch_count = []\n",
        "loss_values = []\n",
        "test_loss_values = []\n",
        "###training\n",
        "#loop through the data\n",
        "for epoch in range(epochs):\n",
        "  #set the model to trainin mode\n",
        "  model_0.train()#train mode in python sets all parameters that require gradients to require gradients\n",
        "  #forward pass\n",
        "  y_pred = model_0(X_train)\n",
        "  #calculate the loss\n",
        "  loss = loss_fn(y_pred,y_train)\n",
        "  #print(f'loss: {loss}')\n",
        "  #optimizer zero grad\n",
        "  optimizer.zero_grad()\n",
        "  #loss backward\n",
        "  loss.backward()\n",
        "  #optimizer step(perform grad descent)\n",
        "  optimizer.step()#by default how the optimizer changes will accumulate through the loop so..we have to zero them above in step 3 for the next iteration of the loop\n",
        "  ###Tetsing loop\n",
        "  model_0.eval()#(turns off diff setting in model not needed for evalutaion/testing(dropout/batchNorm.layer))\n",
        "  with torch.inference_mode():#turns off gradinet tracking anda couple more things behind the scenes\n",
        "  # with torch.no_grad(): #you may see torch.no_grad in older pytorch code\n",
        "    # 1. Do the forward pass\n",
        "    test_pred = model_0(X_test)\n",
        "    # 2.calculate the loss\n",
        "    test_loss = loss_fn(test_pred,y_test)\n",
        "  if epoch % 10 == 0:\n",
        "    epoch_count.append(epoch)\n",
        "    loss_values.append(loss)\n",
        "    test_loss_values.append(test_loss)\n",
        "    print(f\"Epoch: {epoch} | Loss: {loss} | Test Loss: {test_loss}\")\n",
        "    # print out model state_dict()\n",
        "    print(model_0.state_dict())"
      ],
      "metadata": {
        "id": "bDRPCKHbP7qL",
        "colab": {
          "base_uri": "https://localhost:8080/"
        },
        "outputId": "4852980f-cabd-4176-a806-c7177a8f177f"
      },
      "execution_count": null,
      "outputs": [
        {
          "output_type": "stream",
          "name": "stdout",
          "text": [
            "Epoch: 0 | Loss: 0.41288137435913086 | Test Loss: 0.5810651779174805\n",
            "OrderedDict([('weights', tensor([0.3406])), ('bias', tensor([0.1388]))])\n",
            "Epoch: 10 | Loss: 0.2976713180541992 | Test Loss: 0.4463551640510559\n",
            "OrderedDict([('weights', tensor([0.3796])), ('bias', tensor([0.2388]))])\n",
            "Epoch: 20 | Loss: 0.18246141076087952 | Test Loss: 0.3116453289985657\n",
            "OrderedDict([('weights', tensor([0.4186])), ('bias', tensor([0.3388]))])\n",
            "Epoch: 30 | Loss: 0.07432593405246735 | Test Loss: 0.18313124775886536\n",
            "OrderedDict([('weights', tensor([0.4574])), ('bias', tensor([0.4328]))])\n",
            "Epoch: 40 | Loss: 0.04388336092233658 | Test Loss: 0.11712293326854706\n",
            "OrderedDict([('weights', tensor([0.4888])), ('bias', tensor([0.4708]))])\n",
            "Epoch: 50 | Loss: 0.03826197236776352 | Test Loss: 0.0926765650510788\n",
            "OrderedDict([('weights', tensor([0.5107])), ('bias', tensor([0.4758]))])\n",
            "Epoch: 60 | Loss: 0.034725259989500046 | Test Loss: 0.08165650069713593\n",
            "OrderedDict([('weights', tensor([0.5287])), ('bias', tensor([0.4708]))])\n",
            "Epoch: 70 | Loss: 0.03126085549592972 | Test Loss: 0.07201018929481506\n",
            "OrderedDict([('weights', tensor([0.5463])), ('bias', tensor([0.4648]))])\n",
            "Epoch: 80 | Loss: 0.027831759303808212 | Test Loss: 0.06442452222108841\n",
            "OrderedDict([('weights', tensor([0.5632])), ('bias', tensor([0.4573]))])\n",
            "Epoch: 90 | Loss: 0.02439604140818119 | Test Loss: 0.05615197494626045\n",
            "OrderedDict([('weights', tensor([0.5804])), ('bias', tensor([0.4503]))])\n"
          ]
        }
      ]
    },
    {
      "cell_type": "code",
      "source": [
        "import numpy as np\n",
        "epoch_count,np.array(torch.tensor(loss_values).numpy()),test_loss_values"
      ],
      "metadata": {
        "colab": {
          "base_uri": "https://localhost:8080/"
        },
        "id": "HB3Z1Xv9UGeC",
        "outputId": "32917d7d-afda-4f91-efe4-46ad7a0d3143"
      },
      "execution_count": null,
      "outputs": [
        {
          "output_type": "execute_result",
          "data": {
            "text/plain": [
              "([0, 10, 20, 30, 40, 50, 60, 70, 80, 90],\n",
              " array([0.41288137, 0.29767132, 0.18246141, 0.07432593, 0.04388336,\n",
              "        0.03826197, 0.03472526, 0.03126086, 0.02783176, 0.02439604],\n",
              "       dtype=float32),\n",
              " [tensor(0.5811),\n",
              "  tensor(0.4464),\n",
              "  tensor(0.3116),\n",
              "  tensor(0.1831),\n",
              "  tensor(0.1171),\n",
              "  tensor(0.0927),\n",
              "  tensor(0.0817),\n",
              "  tensor(0.0720),\n",
              "  tensor(0.0644),\n",
              "  tensor(0.0562)])"
            ]
          },
          "metadata": {},
          "execution_count": 58
        }
      ]
    },
    {
      "cell_type": "code",
      "source": [
        "#plot the loss curves\n",
        "plt.plot(epoch_count,np.array(torch.tensor(loss_values).numpy()),label='train_loss')\n",
        "plt.plot(epoch_count,test_loss_values,label='test_loss')\n",
        "plt.title('Training and Testing Loss')\n",
        "plt.ylabel('Loss')\n",
        "plt.xlabel('Epochs')\n",
        "plt.legend();"
      ],
      "metadata": {
        "colab": {
          "base_uri": "https://localhost:8080/",
          "height": 472
        },
        "id": "bCeDwSGn9zyV",
        "outputId": "ce21d470-86d8-45c5-86b9-61e078df0209"
      },
      "execution_count": null,
      "outputs": [
        {
          "output_type": "display_data",
          "data": {
            "text/plain": [
              "<Figure size 640x480 with 1 Axes>"
            ],
            "image/png": "[encoded data removed]"
          },
          "metadata": {}
        }
      ]
    },
    {
      "cell_type": "code",
      "source": [
        "with torch.inference_mode():\n",
        "  y_preds_new = model_0(X_test)"
      ],
      "metadata": {
        "id": "r8WhO5E2_ff3"
      },
      "execution_count": null,
      "outputs": []
    },
    {
      "cell_type": "code",
      "source": [
        "plot_predictions(predictions=y_preds_new)"
      ],
      "metadata": {
        "colab": {
          "base_uri": "https://localhost:8080/",
          "height": 460
        },
        "id": "eJfBQI-3Ajq9",
        "outputId": "6a0b2823-833f-48ae-bfd0-f353bb1114b5"
      },
      "execution_count": null,
      "outputs": [
        {
          "output_type": "display_data",
          "data": {
            "text/plain": [
              "<Figure size 1000x700 with 1 Axes>"
            ],
            "image/png": "[encoded data removed]"
          },
          "metadata": {}
        }
      ]
    },
    {
      "cell_type": "markdown",
      "source": [
        "###Saving a model in pytorch\n",
        "\n",
        "There are 3 methods->\n",
        "1. 'torch.save()'-allows you to save a pytorch object in pickle format.\n",
        "2. 'torch.load()'-allows you to load a save pytorch object.\n",
        "3. 'torch.nn.Module.load_state_dict()'-allows you to load a model's saved state dictionary\n",
        "\n",
        "\n"
      ],
      "metadata": {
        "id": "1N_6y8uXAp4k"
      }
    },
    {
      "cell_type": "code",
      "source": [
        "#saving our pytorch model\n",
        "from pathlib import Path\n",
        "#1.Create models directory\n",
        "MODEL_PATH  = Path('models')\n",
        "MODEL_PATH.mkdir(parents=True, exist_ok=True)\n",
        "#2. Create model save path\n",
        "MODEL_NAME = '01_pytorch_workflow_model.pth'\n",
        "MODEL_SAVE_PATH = MODEL_PATH / MODEL_NAME\n",
        "#3. save the model state dict()\n",
        "print(f'saving model to: {MODEL_SAVE_PATH}')\n",
        "torch.save(obj=model_0.state_dict(),f=MODEL_SAVE_PATH)"
      ],
      "metadata": {
        "colab": {
          "base_uri": "https://localhost:8080/"
        },
        "id": "Fs9qj7iYxO-9",
        "outputId": "db8260af-4001-45c4-da49-a49612413878"
      },
      "execution_count": null,
      "outputs": [
        {
          "output_type": "stream",
          "name": "stdout",
          "text": [
            "saving model to: models/01_pytorch_workflow_model.pth\n"
          ]
        }
      ]
    },
    {
      "cell_type": "code",
      "source": [
        "!ls -l models"
      ],
      "metadata": {
        "colab": {
          "base_uri": "https://localhost:8080/"
        },
        "id": "TJx0VFNPyl91",
        "outputId": "b905e468-2819-4bd5-cbc7-894dba0e6157"
      },
      "execution_count": null,
      "outputs": [
        {
          "output_type": "stream",
          "name": "stdout",
          "text": [
            "total 8\n",
            "-rw-r--r-- 1 root root 1744 Feb 18 22:14 01_pytorch_workflow_model_1.pth\n",
            "-rw-r--r-- 1 root root 1668 Feb 18 22:15 01_pytorch_workflow_model.pth\n"
          ]
        }
      ]
    },
    {
      "cell_type": "code",
      "source": [
        "#Loading a pytorch model\n",
        "# to load in a saved state_dict() we have to instantiate a new instance of our model class\n",
        "loaded_model_0 = LinearRegression()\n",
        "#load the saved state dict of model_0(this will update the new instance with updated parameters)\n",
        "loaded_model_0.load_state_dict(torch.load(f=MODEL_SAVE_PATH))"
      ],
      "metadata": {
        "colab": {
          "base_uri": "https://localhost:8080/"
        },
        "id": "JcfUWKIazGoH",
        "outputId": "64c688fc-860a-4abb-c3d7-bd0e993abb36"
      },
      "execution_count": null,
      "outputs": [
        {
          "output_type": "stream",
          "name": "stderr",
          "text": [
            "<ipython-input-64-90f9641554da>:5: FutureWarning: You are using `torch.load` with `weights_only=False` (the current default value), which uses the default pickle module implicitly. It is possible to construct malicious pickle data which will execute arbitrary code during unpickling (See https://github.com/pytorch/pytorch/blob/main/SECURITY.md#untrusted-models for more details). In a future release, the default value for `weights_only` will be flipped to `True`. This limits the functions that could be executed during unpickling. Arbitrary objects will no longer be allowed to be loaded via this mode unless they are explicitly allowlisted by the user via `torch.serialization.add_safe_globals`. We recommend you start setting `weights_only=True` for any use case where you don't have full control of the loaded file. Please open an issue on GitHub for any issues related to this experimental feature.\n",
            "  loaded_model_0.load_state_dict(torch.load(f=MODEL_SAVE_PATH))\n"
          ]
        },
        {
          "output_type": "execute_result",
          "data": {
            "text/plain": [
              "<All keys matched successfully>"
            ]
          },
          "metadata": {},
          "execution_count": 64
        }
      ]
    },
    {
      "cell_type": "code",
      "source": [
        "loaded_model_0.state_dict()\n",
        "#"
      ],
      "metadata": {
        "colab": {
          "base_uri": "https://localhost:8080/"
        },
        "id": "ckyPgVyV5RpM",
        "outputId": "70fab057-90ab-4cb2-a44c-c3d87c8d90fd"
      },
      "execution_count": null,
      "outputs": [
        {
          "output_type": "execute_result",
          "data": {
            "text/plain": [
              "OrderedDict([('weights', tensor([0.5957])), ('bias', tensor([0.4438]))])"
            ]
          },
          "metadata": {},
          "execution_count": 65
        }
      ]
    },
    {
      "cell_type": "code",
      "source": [
        "#make some predictions with our loaded model\n",
        "loaded_model_0.eval()\n",
        "with torch.inference_mode():\n",
        "  loaded_model_preds = loaded_model_0(X_test)\n",
        "loaded_model_preds"
      ],
      "metadata": {
        "colab": {
          "base_uri": "https://localhost:8080/"
        },
        "id": "eYjoWvLB5ozB",
        "outputId": "9b6570c9-927c-41c7-8b89-785c34aea130"
      },
      "execution_count": null,
      "outputs": [
        {
          "output_type": "execute_result",
          "data": {
            "text/plain": [
              "tensor([[0.9204],\n",
              "        [0.9323],\n",
              "        [0.9442],\n",
              "        [0.9561],\n",
              "        [0.9681],\n",
              "        [0.9800],\n",
              "        [0.9919],\n",
              "        [1.0038],\n",
              "        [1.0157],\n",
              "        [1.0276]])"
            ]
          },
          "metadata": {},
          "execution_count": 66
        }
      ]
    },
    {
      "cell_type": "code",
      "source": [
        "#make some model preds\n",
        "model_0.eval()\n",
        "with torch.inference_mode():\n",
        "  y_model_preds = model_0(X_test)\n",
        "y_model_preds"
      ],
      "metadata": {
        "colab": {
          "base_uri": "https://localhost:8080/"
        },
        "id": "zdGGcLGo6HJ2",
        "outputId": "1cc76526-3792-4b49-b6ce-0784e96bd935"
      },
      "execution_count": null,
      "outputs": [
        {
          "output_type": "execute_result",
          "data": {
            "text/plain": [
              "tensor([[0.9204],\n",
              "        [0.9323],\n",
              "        [0.9442],\n",
              "        [0.9561],\n",
              "        [0.9681],\n",
              "        [0.9800],\n",
              "        [0.9919],\n",
              "        [1.0038],\n",
              "        [1.0157],\n",
              "        [1.0276]])"
            ]
          },
          "metadata": {},
          "execution_count": 67
        }
      ]
    },
    {
      "cell_type": "code",
      "source": [
        "#compare loaded model preds with original model preds\n",
        "#y_preds == loaded_model_preds"
      ],
      "metadata": {
        "id": "KuiKDaJs55ow"
      },
      "execution_count": null,
      "outputs": []
    },
    {
      "cell_type": "markdown",
      "source": [
        "#Putting it all together\n"
      ],
      "metadata": {
        "id": "sMd1h6T46SP9"
      }
    },
    {
      "cell_type": "code",
      "source": [
        "import torch\n",
        "from torch import nn\n",
        "import matplotlib.pyplot as plt\n",
        "torch.__version__"
      ],
      "metadata": {
        "colab": {
          "base_uri": "https://localhost:8080/",
          "height": 35
        },
        "id": "b0NLKW6h6-Rj",
        "outputId": "5e204740-9625-4397-9cc1-27a1ff80d21b"
      },
      "execution_count": null,
      "outputs": [
        {
          "output_type": "execute_result",
          "data": {
            "text/plain": [
              "'2.5.1+cu124'"
            ],
            "application/vnd.google.colaboratory.intrinsic+json": {
              "type": "string"
            }
          },
          "metadata": {},
          "execution_count": 69
        }
      ]
    },
    {
      "cell_type": "markdown",
      "source": [
        "\n",
        "create device agnostic code.\n",
        "This means if we got access to  GPU our code will use it\n",
        "\n",
        "If no GPU available , the code will default to using CPU\n"
      ],
      "metadata": {
        "id": "ZqVYGwXN79yR"
      }
    },
    {
      "cell_type": "code",
      "source": [
        "#Setup Device agnostic code\n",
        "device = \"cuda\" if torch.cuda.is_available() else \"CPU\"\n",
        "print(f\"Using device:{device} \")"
      ],
      "metadata": {
        "colab": {
          "base_uri": "https://localhost:8080/"
        },
        "id": "QnuFpG1L8htm",
        "outputId": "bcfb49f4-2118-457a-afb8-9b515971eebb"
      },
      "execution_count": null,
      "outputs": [
        {
          "output_type": "stream",
          "name": "stdout",
          "text": [
            "Using device:CPU \n"
          ]
        }
      ]
    },
    {
      "cell_type": "code",
      "source": [
        "!nvidia-smi"
      ],
      "metadata": {
        "colab": {
          "base_uri": "https://localhost:8080/"
        },
        "id": "ALWuhaNd9OsN",
        "outputId": "312652e3-303b-4a5f-b892-1a2a53508c8e"
      },
      "execution_count": null,
      "outputs": [
        {
          "output_type": "stream",
          "name": "stdout",
          "text": [
            "/bin/bash: line 1: nvidia-smi: command not found\n"
          ]
        }
      ]
    },
    {
      "cell_type": "markdown",
      "source": [
        "###1.1 data"
      ],
      "metadata": {
        "id": "atXlGian9TmA"
      }
    },
    {
      "cell_type": "code",
      "source": [
        "#create some data using linear regresion\n",
        "weight = 0.7\n",
        "bias = 0.3\n",
        "#Create Features\n",
        "X = torch.arange(0,1,0.02).unsqueeze(dim=1)\n",
        "y = weight * X + bias\n",
        "X[:10],y[:10]"
      ],
      "metadata": {
        "colab": {
          "base_uri": "https://localhost:8080/"
        },
        "id": "SIBx-wrM9_7d",
        "outputId": "c1570a09-d928-4ef0-f88b-f1ca93ceeace"
      },
      "execution_count": null,
      "outputs": [
        {
          "output_type": "execute_result",
          "data": {
            "text/plain": [
              "(tensor([[0.0000],\n",
              "         [0.0200],\n",
              "         [0.0400],\n",
              "         [0.0600],\n",
              "         [0.0800],\n",
              "         [0.1000],\n",
              "         [0.1200],\n",
              "         [0.1400],\n",
              "         [0.1600],\n",
              "         [0.1800]]),\n",
              " tensor([[0.3000],\n",
              "         [0.3140],\n",
              "         [0.3280],\n",
              "         [0.3420],\n",
              "         [0.3560],\n",
              "         [0.3700],\n",
              "         [0.3840],\n",
              "         [0.3980],\n",
              "         [0.4120],\n",
              "         [0.4260]]))"
            ]
          },
          "metadata": {},
          "execution_count": 72
        }
      ]
    },
    {
      "cell_type": "code",
      "source": [
        "#Split data\n",
        "train_split = int(0.8*len(X))\n",
        "X_train , y_train= X[:train_split],y[:train_split]\n",
        "X_test,y_test = X[train_split:],y[train_split:]\n",
        "len(X_train),len(y_train),len(X_test),len(y_test)"
      ],
      "metadata": {
        "colab": {
          "base_uri": "https://localhost:8080/"
        },
        "id": "pqcQfyDO-VUS",
        "outputId": "2fcc4e5b-282c-4046-968f-d962a7554994"
      },
      "execution_count": null,
      "outputs": [
        {
          "output_type": "execute_result",
          "data": {
            "text/plain": [
              "(40, 40, 10, 10)"
            ]
          },
          "metadata": {},
          "execution_count": 73
        }
      ]
    },
    {
      "cell_type": "code",
      "source": [
        "#Plot data\n",
        "plot_predictions(X_train,y_train,X_test,y_test)"
      ],
      "metadata": {
        "colab": {
          "base_uri": "https://localhost:8080/",
          "height": 460
        },
        "id": "1LPu2NQZ_V2g",
        "outputId": "7580157b-4a7e-480d-81db-7eb9965940ff"
      },
      "execution_count": null,
      "outputs": [
        {
          "output_type": "display_data",
          "data": {
            "text/plain": [
              "<Figure size 1000x700 with 1 Axes>"
            ],
            "image/png": "[encoded data removed]"
          },
          "metadata": {}
        }
      ]
    },
    {
      "cell_type": "markdown",
      "source": [
        "##1#.2 Build a linear model\n",
        "\n",
        "\n"
      ],
      "metadata": {
        "id": "M5b_F84n_iaG"
      }
    },
    {
      "cell_type": "code",
      "source": [
        "class LinearRegressionModel(nn.Module):\n",
        "  def __init__(self):\n",
        "    super().__init__()\n",
        "    #use nn.Linear for creating the model params\n",
        "    self.linear_layer= nn.Linear(1,1)\n",
        "  def forward(self,x:torch.Tensor) -> torch.Tensor:\n",
        "    return self.linear_layer(x)\n",
        "#set manual seed\n",
        "torch.manual_seed(3301)\n",
        "#create an instance of our model\n",
        "model_1 = LinearRegressionModel()\n",
        "model_1,model_1.state_dict()"
      ],
      "metadata": {
        "colab": {
          "base_uri": "https://localhost:8080/"
        },
        "id": "Gvc3MfuJ_8Rx",
        "outputId": "07f986a7-f28a-456f-fdab-bd6d61ab3bf6"
      },
      "execution_count": null,
      "outputs": [
        {
          "output_type": "execute_result",
          "data": {
            "text/plain": [
              "(LinearRegressionModel(\n",
              "   (linear_layer): Linear(in_features=1, out_features=1, bias=True)\n",
              " ),\n",
              " OrderedDict([('linear_layer.weight', tensor([[-0.8901]])),\n",
              "              ('linear_layer.bias', tensor([0.9111]))]))"
            ]
          },
          "metadata": {},
          "execution_count": 75
        }
      ]
    },
    {
      "cell_type": "code",
      "source": [
        "X_train[:5],y_train[:5]"
      ],
      "metadata": {
        "colab": {
          "base_uri": "https://localhost:8080/"
        },
        "id": "mZJqfLqbCJwQ",
        "outputId": "7bbe94b1-fa26-4485-a2ea-1f4cca1d2550"
      },
      "execution_count": null,
      "outputs": [
        {
          "output_type": "execute_result",
          "data": {
            "text/plain": [
              "(tensor([[0.0000],\n",
              "         [0.0200],\n",
              "         [0.0400],\n",
              "         [0.0600],\n",
              "         [0.0800]]),\n",
              " tensor([[0.3000],\n",
              "         [0.3140],\n",
              "         [0.3280],\n",
              "         [0.3420],\n",
              "         [0.3560]]))"
            ]
          },
          "metadata": {},
          "execution_count": 76
        }
      ]
    },
    {
      "cell_type": "code",
      "source": [
        "#check device\n",
        "next(model_1.parameters()).device"
      ],
      "metadata": {
        "colab": {
          "base_uri": "https://localhost:8080/"
        },
        "id": "n4yjCLBbDo3C",
        "outputId": "3470d1e7-40ff-49d4-a966-36d19b0fc16f"
      },
      "execution_count": null,
      "outputs": [
        {
          "output_type": "execute_result",
          "data": {
            "text/plain": [
              "device(type='cpu')"
            ]
          },
          "metadata": {},
          "execution_count": 77
        }
      ]
    },
    {
      "cell_type": "code",
      "source": [
        "#SEt the model to use target device\n",
        "# model_1.to(device)\n",
        "# next(model_1.parameters()).device"
      ],
      "metadata": {
        "id": "RxBJYpqmDao0"
      },
      "execution_count": null,
      "outputs": []
    },
    {
      "cell_type": "code",
      "source": [
        "model_1.state_dict()"
      ],
      "metadata": {
        "colab": {
          "base_uri": "https://localhost:8080/"
        },
        "id": "dAqg8F5rD7wM",
        "outputId": "483ae861-da86-46fd-a91e-7117f25cb3c5"
      },
      "execution_count": null,
      "outputs": [
        {
          "output_type": "execute_result",
          "data": {
            "text/plain": [
              "OrderedDict([('linear_layer.weight', tensor([[-0.8901]])),\n",
              "             ('linear_layer.bias', tensor([0.9111]))])"
            ]
          },
          "metadata": {},
          "execution_count": 79
        }
      ]
    },
    {
      "cell_type": "markdown",
      "source": [
        "##1.3 Training loop"
      ],
      "metadata": {
        "id": "XwmJz_7WEbAi"
      }
    },
    {
      "cell_type": "code",
      "source": [
        "#setup a loss fuction\n",
        "loss_fn = nn.L1Loss()\n",
        "#setup an optimizer\n",
        "optimizer = torch.optim.Adam(params=model_1.parameters(),lr=0.01)\n"
      ],
      "metadata": {
        "id": "l4jOu4RUEihA"
      },
      "execution_count": null,
      "outputs": []
    },
    {
      "cell_type": "code",
      "source": [
        "torch.manual_seed(3301)"
      ],
      "metadata": {
        "colab": {
          "base_uri": "https://localhost:8080/"
        },
        "id": "aHgkB8zQEw-M",
        "outputId": "fcd70bee-7a17-4963-e286-b748c7d77a16"
      },
      "execution_count": null,
      "outputs": [
        {
          "output_type": "execute_result",
          "data": {
            "text/plain": [
              "<torch._C.Generator at 0x7b774e93e3d0>"
            ]
          },
          "metadata": {},
          "execution_count": 81
        }
      ]
    },
    {
      "cell_type": "code",
      "source": [
        "epochs=200\n",
        "for epoch in range(epochs):\n",
        "  model_1.train()\n",
        "  y_pred = model_1(X_train)\n",
        "  #calculate the loss\n",
        "  loss = loss_fn(y_pred,y_train)\n",
        "  #optimizer zero_grad\n",
        "  optimizer.zero_grad()\n",
        "  #loss backward\n",
        "  loss.backward()\n",
        "  #optimizer step\n",
        "  optimizer.step()\n",
        "  model_1.eval()\n",
        "  ###TESTING\n",
        "  model_1.eval()\n",
        "  with torch.inference_mode():\n",
        "    test_pred = model_1(X_test)\n",
        "    test_loss = loss_fn(test_pred,y_test)\n",
        "    #print\n",
        "  if epoch % 10 == 0:\n",
        "    print(f\"Epoch: {epoch} | Loss: {loss} | Test Loss: {test_loss}\")"
      ],
      "metadata": {
        "colab": {
          "base_uri": "https://localhost:8080/"
        },
        "id": "MFkIxQ7_E5Xd",
        "outputId": "cae6aa0e-65f0-4a40-8807-72bd9b9bb065"
      },
      "execution_count": null,
      "outputs": [
        {
          "output_type": "stream",
          "name": "stdout",
          "text": [
            "Epoch: 0 | Loss: 0.31801509857177734 | Test Loss: 0.7978572249412537\n",
            "Epoch: 10 | Loss: 0.29801517724990845 | Test Loss: 0.7359989285469055\n",
            "Epoch: 20 | Loss: 0.27805569767951965 | Test Loss: 0.6766058206558228\n",
            "Epoch: 30 | Loss: 0.2581261396408081 | Test Loss: 0.632461667060852\n",
            "Epoch: 40 | Loss: 0.23819255828857422 | Test Loss: 0.5803709626197815\n",
            "Epoch: 50 | Loss: 0.2182779759168625 | Test Loss: 0.5325733423233032\n",
            "Epoch: 60 | Loss: 0.19833210110664368 | Test Loss: 0.48006826639175415\n",
            "Epoch: 70 | Loss: 0.17845799028873444 | Test Loss: 0.4322565495967865\n",
            "Epoch: 80 | Loss: 0.15848085284233093 | Test Loss: 0.3861057758331299\n",
            "Epoch: 90 | Loss: 0.13854357600212097 | Test Loss: 0.3364109396934509\n",
            "Epoch: 100 | Loss: 0.1185896024107933 | Test Loss: 0.28449350595474243\n",
            "Epoch: 110 | Loss: 0.09865818172693253 | Test Loss: 0.23906144499778748\n",
            "Epoch: 120 | Loss: 0.07871507853269577 | Test Loss: 0.1892348825931549\n",
            "Epoch: 130 | Loss: 0.0587628073990345 | Test Loss: 0.13827860355377197\n",
            "Epoch: 140 | Loss: 0.0388248935341835 | Test Loss: 0.09242645651102066\n",
            "Epoch: 150 | Loss: 0.01887320727109909 | Test Loss: 0.0419030487537384\n",
            "Epoch: 160 | Loss: 0.010719268582761288 | Test Loss: 0.018509989604353905\n",
            "Epoch: 170 | Loss: 0.007836703211069107 | Test Loss: 0.016168206930160522\n",
            "Epoch: 180 | Loss: 0.0011404737597331405 | Test Loss: 0.005715221166610718\n",
            "Epoch: 190 | Loss: 0.002824877155944705 | Test Loss: 0.010932868346571922\n"
          ]
        }
      ]
    },
    {
      "cell_type": "code",
      "source": [
        "model_1.state_dict()"
      ],
      "metadata": {
        "colab": {
          "base_uri": "https://localhost:8080/"
        },
        "id": "eb-zvrVgF28J",
        "outputId": "36da2719-4e9e-4899-c90d-06f8a9153bab"
      },
      "execution_count": null,
      "outputs": [
        {
          "output_type": "execute_result",
          "data": {
            "text/plain": [
              "OrderedDict([('linear_layer.weight', tensor([[0.6987]])),\n",
              "             ('linear_layer.bias', tensor([0.2969]))])"
            ]
          },
          "metadata": {},
          "execution_count": 83
        }
      ]
    },
    {
      "cell_type": "markdown",
      "source": [
        "###1.4 Making and Evaluating predictions"
      ],
      "metadata": {
        "id": "e9_U4KOXGCqz"
      }
    },
    {
      "cell_type": "code",
      "source": [
        "model_1.eval()\n",
        "#make prediction on test data\n",
        "with torch.inference_mode():\n",
        "  y_preds = model_1(X_test)\n",
        "y_preds"
      ],
      "metadata": {
        "colab": {
          "base_uri": "https://localhost:8080/"
        },
        "id": "9YqfRs3gGgVk",
        "outputId": "b8b11a1d-e155-444c-c63b-a9fc51ee9a90"
      },
      "execution_count": null,
      "outputs": [
        {
          "output_type": "execute_result",
          "data": {
            "text/plain": [
              "tensor([[0.8559],\n",
              "        [0.8699],\n",
              "        [0.8839],\n",
              "        [0.8978],\n",
              "        [0.9118],\n",
              "        [0.9258],\n",
              "        [0.9398],\n",
              "        [0.9537],\n",
              "        [0.9677],\n",
              "        [0.9817]])"
            ]
          },
          "metadata": {},
          "execution_count": 84
        }
      ]
    },
    {
      "cell_type": "code",
      "source": [
        "plot_predictions(X_train,y_train,X_test,y_test,y_preds)\n",
        "#"
      ],
      "metadata": {
        "colab": {
          "base_uri": "https://localhost:8080/",
          "height": 460
        },
        "id": "je9GGGlAGuvr",
        "outputId": "9c3cdb2c-e6cc-46c9-ad80-427390014809"
      },
      "execution_count": null,
      "outputs": [
        {
          "output_type": "display_data",
          "data": {
            "text/plain": [
              "<Figure size 1000x700 with 1 Axes>"
            ],
            "image/png": "[encoded data removed]"
          },
          "metadata": {}
        }
      ]
    },
    {
      "cell_type": "markdown",
      "source": [
        "###1.5 saving model"
      ],
      "metadata": {
        "id": "oEfm2u_kG96d"
      }
    },
    {
      "cell_type": "code",
      "source": [
        "from pathlib import Path\n",
        "Model_path = Path('models')\n",
        "Model_path.mkdir(parents=True,exist_ok=True)\n",
        "MODEL_NAME = '01_pytorch_workflow_model_1.pth'\n",
        "MODEL_SAVE_PATH = Model_path / MODEL_NAME\n",
        "print(f'saving model to: {MODEL_SAVE_PATH}')\n",
        "torch.save(obj=model_1.state_dict(),f=MODEL_SAVE_PATH)"
      ],
      "metadata": {
        "colab": {
          "base_uri": "https://localhost:8080/"
        },
        "id": "QM1tv3KlHSJm",
        "outputId": "3d79cec1-fe4b-4142-f0c9-fe7fdc44d60b"
      },
      "execution_count": null,
      "outputs": [
        {
          "output_type": "stream",
          "name": "stdout",
          "text": [
            "saving model to: models/01_pytorch_workflow_model_1.pth\n"
          ]
        }
      ]
    },
    {
      "cell_type": "code",
      "source": [
        "model_1.state_dict()"
      ],
      "metadata": {
        "colab": {
          "base_uri": "https://localhost:8080/"
        },
        "id": "Z6GwbMuDH6Vr",
        "outputId": "4516b311-8923-4d66-bacc-51e16a4663c6"
      },
      "execution_count": null,
      "outputs": [
        {
          "output_type": "execute_result",
          "data": {
            "text/plain": [
              "OrderedDict([('linear_layer.weight', tensor([[0.6987]])),\n",
              "             ('linear_layer.bias', tensor([0.2969]))])"
            ]
          },
          "metadata": {},
          "execution_count": 87
        }
      ]
    },
    {
      "cell_type": "code",
      "source": [
        "loaded_model_1 = LinearRegressionModel()\n",
        "loaded_model_1.load_state_dict(torch.load(f=MODEL_SAVE_PATH))\n"
      ],
      "metadata": {
        "colab": {
          "base_uri": "https://localhost:8080/"
        },
        "id": "ozeScUgPIMd6",
        "outputId": "246af0b8-9ccb-42a0-8beb-a4e828134fb6"
      },
      "execution_count": null,
      "outputs": [
        {
          "output_type": "stream",
          "name": "stderr",
          "text": [
            "<ipython-input-90-554202f99e25>:2: FutureWarning: You are using `torch.load` with `weights_only=False` (the current default value), which uses the default pickle module implicitly. It is possible to construct malicious pickle data which will execute arbitrary code during unpickling (See https://github.com/pytorch/pytorch/blob/main/SECURITY.md#untrusted-models for more details). In a future release, the default value for `weights_only` will be flipped to `True`. This limits the functions that could be executed during unpickling. Arbitrary objects will no longer be allowed to be loaded via this mode unless they are explicitly allowlisted by the user via `torch.serialization.add_safe_globals`. We recommend you start setting `weights_only=True` for any use case where you don't have full control of the loaded file. Please open an issue on GitHub for any issues related to this experimental feature.\n",
            "  loaded_model_1.load_state_dict(torch.load(f=MODEL_SAVE_PATH))\n"
          ]
        },
        {
          "output_type": "execute_result",
          "data": {
            "text/plain": [
              "<All keys matched successfully>"
            ]
          },
          "metadata": {},
          "execution_count": 90
        }
      ]
    },
    {
      "cell_type": "code",
      "source": [
        "next(loaded_model_1.parameters()).device"
      ],
      "metadata": {
        "colab": {
          "base_uri": "https://localhost:8080/"
        },
        "id": "aDW8hN2LIkQy",
        "outputId": "b62910a1-cb32-4d52-ceeb-47832c390c68"
      },
      "execution_count": null,
      "outputs": [
        {
          "output_type": "execute_result",
          "data": {
            "text/plain": [
              "device(type='cpu')"
            ]
          },
          "metadata": {},
          "execution_count": 91
        }
      ]
    },
    {
      "cell_type": "code",
      "source": [
        "loaded_model_1.state_dict()"
      ],
      "metadata": {
        "colab": {
          "base_uri": "https://localhost:8080/"
        },
        "id": "Dthm5ForI4uA",
        "outputId": "1a24f300-d07c-49d7-cc26-d20231e178b9"
      },
      "execution_count": null,
      "outputs": [
        {
          "output_type": "execute_result",
          "data": {
            "text/plain": [
              "OrderedDict([('linear_layer.weight', tensor([[0.6987]])),\n",
              "             ('linear_layer.bias', tensor([0.2969]))])"
            ]
          },
          "metadata": {},
          "execution_count": 92
        }
      ]
    },
    {
      "cell_type": "code",
      "source": [
        "#EVluate loaded model\n",
        "loaded_model_1.eval()\n",
        "with torch.inference_mode():\n",
        "  loaded_model_1_preds = loaded_model_1(X_test)\n",
        "y_preds==loaded_model_1_preds"
      ],
      "metadata": {
        "colab": {
          "base_uri": "https://localhost:8080/"
        },
        "id": "wvlBHdbjI9lX",
        "outputId": "eb4ff16e-4771-4f8b-9d31-dd9da651d41c"
      },
      "execution_count": null,
      "outputs": [
        {
          "output_type": "execute_result",
          "data": {
            "text/plain": [
              "tensor([[True],\n",
              "        [True],\n",
              "        [True],\n",
              "        [True],\n",
              "        [True],\n",
              "        [True],\n",
              "        [True],\n",
              "        [True],\n",
              "        [True],\n",
              "        [True]])"
            ]
          },
          "metadata": {},
          "execution_count": 94
        }
      ]
    },
    {
      "cell_type": "code",
      "source": [],
      "metadata": {
        "id": "gelzC25rJKs6"
      },
      "execution_count": null,
      "outputs": []
    }
  ]
}